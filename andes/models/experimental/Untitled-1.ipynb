{
 "cells": [
  {
   "cell_type": "code",
   "execution_count": 2,
   "metadata": {},
   "outputs": [
    {
     "name": "stdout",
     "output_type": "stream",
     "text": [
      "\n",
      "    _           _         | Version 1.8.10.post2.dev0+g3b2b9dd7\n",
      "   /_\\  _ _  __| |___ ___ | Python 3.8.17 on Linux, 10/03/2023 01:47:44 PM\n",
      "  / _ \\| ' \\/ _` / -_|_-< | \n",
      " /_/ \\_\\_||_\\__,_\\___/__/ | This program comes with ABSOLUTELY NO WARRANTY.\n",
      "\n",
      "> Loaded config from file \"/home/hayamonawwar/.andes/andes.rc\"\n",
      "Numerical code generation (quick mode) started...\n",
      "ValueError: Error from parse_expr with transformed code: '[Xc *cos (Kx *(pi -alpha )*[(pi *pow (Kx ,Integer (4 ))-pi -Integer (2 )*pow (Kx ,Integer (4 ))*alpha +Integer (2 )*pow (Kx ,Integer (2 ))*alpha -sin (Integer (2 )*alpha )*pow (Kx ,Integer (4 ))+sin (Integer (2 )*alpha )*pow (Kx ,Integer (2 ))-Integer (4 )*pow (Kx ,Integer (3 ))*pow (cos (alpha ),Integer (2 ))*sin (pi -alpha )-Integer (4 )*pow (Kx ,Integer (2 ))*cos (alpha )*sin (alpha )))]]/[pi *(pow (Kx ,Integer (4 ))-Integer (2 )*pow (Kx ,Integer (2 ))+Integer (1 ))*cos (Kx *(pi -alpha ))]'\n",
      "\n",
      "The above exception was the direct cause of the following exception:\n",
      "\n",
      "Traceback (most recent call last):\n",
      "  File \"/home/hayamonawwar/mambaforge/envs/andes/lib/python3.8/site-packages/sympy/core/sympify.py\", line 496, in sympify\n",
      "    expr = parse_expr(a, local_dict=locals, transformations=transformations, evaluate=evaluate)\n",
      "  File \"/home/hayamonawwar/mambaforge/envs/andes/lib/python3.8/site-packages/sympy/parsing/sympy_parser.py\", line 1101, in parse_expr\n",
      "    raise e from ValueError(f\"Error from parse_expr with transformed code: {code!r}\")\n",
      "  File \"/home/hayamonawwar/mambaforge/envs/andes/lib/python3.8/site-packages/sympy/parsing/sympy_parser.py\", line 1092, in parse_expr\n",
      "    rv = eval_expr(code, local_dict, global_dict)\n",
      "  File \"/home/hayamonawwar/mambaforge/envs/andes/lib/python3.8/site-packages/sympy/parsing/sympy_parser.py\", line 907, in eval_expr\n",
      "    expr = eval(\n",
      "  File \"<string>\", line 1\n",
      "    [Xc *cos (Kx *(pi -alpha )*[(pi *pow (Kx ,Integer (4 ))-pi -Integer (2 )*pow (Kx ,Integer (4 ))*alpha +Integer (2 )*pow (Kx ,Integer (2 ))*alpha -sin (Integer (2 )*alpha )*pow (Kx ,Integer (4 ))+sin (Integer (2 )*alpha )*pow (Kx ,Integer (2 ))-Integer (4 )*pow (Kx ,Integer (3 ))*pow (cos (alpha ),Integer (2 ))*sin (pi -alpha )-Integer (4 )*pow (Kx ,Integer (2 ))*cos (alpha )*sin (alpha )))]]/[pi *(pow (Kx ,Integer (4 ))-Integer (2 )*pow (Kx ,Integer (2 ))+Integer (1 ))*cos (Kx *(pi -alpha ))]\n",
      "                                                                                                                                                                                                                                                                                                                                                                                                           ^\n",
      "SyntaxError: closing parenthesis ')' does not match opening parenthesis '['\n",
      "\n",
      "During handling of the above exception, another exception occurred:\n",
      "\n",
      "Traceback (most recent call last):\n",
      "  File \"/home/hayamonawwar/mambaforge/envs/andes/bin/andes\", line 33, in <module>\n",
      "    sys.exit(load_entry_point('andes', 'console_scripts', 'andes')())\n",
      "  File \"/home/hayamonawwar/andes/andes/cli.py\", line 238, in main\n",
      "    return func(cli=True, **vars(args))\n",
      "  File \"/home/hayamonawwar/andes/andes/main.py\", line 775, in prepare\n",
      "    system.prepare(quick=quick, incremental=incremental, models=models,\n",
      "  File \"/home/hayamonawwar/andes/andes/system.py\", line 356, in prepare\n",
      "    model.prepare(quick=quick, pycode_path=pycode_path)\n",
      "  File \"/home/hayamonawwar/andes/andes/core/model/model.py\", line 1293, in prepare\n",
      "    self.syms.generate_init()\n",
      "  File \"/home/hayamonawwar/andes/andes/core/symprocessor.py\", line 644, in generate_init\n",
      "    self.generate_dependency()\n",
      "  File \"/home/hayamonawwar/andes/andes/core/symprocessor.py\", line 594, in generate_dependency\n",
      "    sympified = sp.sympify(instance.v_str, locals=self.inputs_dict)\n",
      "  File \"/home/hayamonawwar/mambaforge/envs/andes/lib/python3.8/site-packages/sympy/core/sympify.py\", line 498, in sympify\n",
      "    raise SympifyError('could not parse %r' % a, exc)\n",
      "sympy.core.sympify.SympifyError: Sympify of expression 'could not parse '[Xc * cos(Kx*(pi - alpha) * [(pi * pow(Kx,4) -  pi - 2*pow(Kx,4) *alpha + 2*pow(Kx,2)*alpha - sin(2*alpha)*pow(Kx,4)+ sin(2*alpha)*pow(Kx,2) - 4*pow(Kx,3)*pow(cos(alpha),2)*sin(pi - alpha)- 4*pow(Kx,2)*cos(alpha)*sin(alpha) ))] ] /  [pi * (pow(Kx,4) - 2*pow(Kx,2) + 1) * cos (Kx * (pi - alpha))]'' failed, because of exception being raised:\n",
      "SyntaxError: closing parenthesis ')' does not match opening parenthesis '[' (<string>, line 1)\n"
     ]
    }
   ],
   "source": [
    "!andes prep -m TCSC --nomp"
   ]
  },
  {
   "cell_type": "code",
   "execution_count": 1,
   "metadata": {},
   "outputs": [
    {
     "name": "stdout",
     "output_type": "stream",
     "text": [
      "Generating code for 1 models on 6 processes.\n"
     ]
    },
    {
     "ename": "MaybeEncodingError",
     "evalue": "Error sending result: '<multiprocess.pool.ExceptionWithTraceback object at 0x7f0cdd08c040>'. Reason: 'TypeError(\"cannot pickle '_global_parameters' object\")'",
     "output_type": "error",
     "traceback": [
      "\u001b[0;31m---------------------------------------------------------------------------\u001b[0m",
      "\u001b[0;31mMaybeEncodingError\u001b[0m                        Traceback (most recent call last)",
      "\u001b[1;32m/home/hayamonawwar/andes/andes/models/experimental/Untitled-1.ipynb Cell 1\u001b[0m line \u001b[0;36m6\n\u001b[1;32m      <a href='vscode-notebook-cell://wsl%2Bubuntu/home/hayamonawwar/andes/andes/models/experimental/Untitled-1.ipynb#W1sdnNjb2RlLXJlbW90ZQ%3D%3D?line=2'>3</a>\u001b[0m \u001b[39m# experimental.TCSC(0, 0)\u001b[39;00m\n\u001b[1;32m      <a href='vscode-notebook-cell://wsl%2Bubuntu/home/hayamonawwar/andes/andes/models/experimental/Untitled-1.ipynb#W1sdnNjb2RlLXJlbW90ZQ%3D%3D?line=4'>5</a>\u001b[0m \u001b[39mimport\u001b[39;00m \u001b[39mandes\u001b[39;00m\n\u001b[0;32m----> <a href='vscode-notebook-cell://wsl%2Bubuntu/home/hayamonawwar/andes/andes/models/experimental/Untitled-1.ipynb#W1sdnNjb2RlLXJlbW90ZQ%3D%3D?line=5'>6</a>\u001b[0m ss \u001b[39m=\u001b[39m andes\u001b[39m.\u001b[39;49mSystem()\n",
      "File \u001b[0;32m~/andes/andes/system.py:212\u001b[0m, in \u001b[0;36mSystem.__init__\u001b[0;34m(self, case, name, config, config_path, default_config, options, no_undill, autogen_stale, **kwargs)\u001b[0m\n\u001b[1;32m    209\u001b[0m \u001b[39mself\u001b[39m\u001b[39m.\u001b[39mis_setup \u001b[39m=\u001b[39m \u001b[39mFalse\u001b[39;00m        \u001b[39m# if system has been setup\u001b[39;00m\n\u001b[1;32m    211\u001b[0m \u001b[39mif\u001b[39;00m \u001b[39mnot\u001b[39;00m no_undill:\n\u001b[0;32m--> 212\u001b[0m     \u001b[39mself\u001b[39;49m\u001b[39m.\u001b[39;49mundill(autogen_stale\u001b[39m=\u001b[39;49mautogen_stale)\n",
      "File \u001b[0;32m~/andes/andes/system.py:1556\u001b[0m, in \u001b[0;36mSystem.undill\u001b[0;34m(self, autogen_stale)\u001b[0m\n\u001b[1;32m   1554\u001b[0m \u001b[39melif\u001b[39;00m \u001b[39mlen\u001b[39m(stale_models) \u001b[39m>\u001b[39m \u001b[39m0\u001b[39m:\n\u001b[1;32m   1555\u001b[0m     logger\u001b[39m.\u001b[39minfo(\u001b[39m\"\u001b[39m\u001b[39mGenerated code for <\u001b[39m\u001b[39m%s\u001b[39;00m\u001b[39m> is stale.\u001b[39m\u001b[39m\"\u001b[39m, \u001b[39m'\u001b[39m\u001b[39m, \u001b[39m\u001b[39m'\u001b[39m\u001b[39m.\u001b[39mjoin(stale_models\u001b[39m.\u001b[39mkeys()))\n\u001b[0;32m-> 1556\u001b[0m     \u001b[39mself\u001b[39;49m\u001b[39m.\u001b[39;49mprepare(quick\u001b[39m=\u001b[39;49m\u001b[39mTrue\u001b[39;49;00m, incremental\u001b[39m=\u001b[39;49m\u001b[39mTrue\u001b[39;49;00m, models\u001b[39m=\u001b[39;49mstale_models)\n\u001b[1;32m   1557\u001b[0m     loaded \u001b[39m=\u001b[39m \u001b[39mTrue\u001b[39;00m\n\u001b[1;32m   1559\u001b[0m \u001b[39mreturn\u001b[39;00m loaded\n",
      "File \u001b[0;32m~/andes/andes/system.py:350\u001b[0m, in \u001b[0;36mSystem.prepare\u001b[0;34m(self, quick, incremental, models, nomp, ncpu)\u001b[0m\n\u001b[1;32m    348\u001b[0m \u001b[39mif\u001b[39;00m nomp \u001b[39mis\u001b[39;00m \u001b[39mFalse\u001b[39;00m:\n\u001b[1;32m    349\u001b[0m     \u001b[39mprint\u001b[39m(\u001b[39mf\u001b[39m\u001b[39m\"\u001b[39m\u001b[39mGenerating code for \u001b[39m\u001b[39m{\u001b[39;00mtotal\u001b[39m}\u001b[39;00m\u001b[39m models on \u001b[39m\u001b[39m{\u001b[39;00mncpu\u001b[39m}\u001b[39;00m\u001b[39m processes.\u001b[39m\u001b[39m\"\u001b[39m)\n\u001b[0;32m--> 350\u001b[0m     \u001b[39mself\u001b[39;49m\u001b[39m.\u001b[39;49m_mp_prepare(models, quick, pycode_path, ncpu\u001b[39m=\u001b[39;49mncpu)\n\u001b[1;32m    352\u001b[0m \u001b[39melse\u001b[39;00m:\n\u001b[1;32m    353\u001b[0m     \u001b[39mfor\u001b[39;00m idx, (name, model) \u001b[39min\u001b[39;00m \u001b[39menumerate\u001b[39m(models\u001b[39m.\u001b[39mitems()):\n",
      "File \u001b[0;32m~/andes/andes/system.py:407\u001b[0m, in \u001b[0;36mSystem._mp_prepare\u001b[0;34m(self, models, quick, pycode_path, ncpu)\u001b[0m\n\u001b[1;32m    399\u001b[0m \u001b[39m    \u001b[39m\u001b[39m\"\"\"\u001b[39;00m\n\u001b[1;32m    400\u001b[0m \u001b[39m    Wrapper function to call prepare on a model.\u001b[39;00m\n\u001b[1;32m    401\u001b[0m \u001b[39m    \"\"\"\u001b[39;00m\n\u001b[1;32m    402\u001b[0m     model\u001b[39m.\u001b[39mprepare(quick\u001b[39m=\u001b[39mquick,\n\u001b[1;32m    403\u001b[0m                   pycode_path\u001b[39m=\u001b[39mpycode_path,\n\u001b[1;32m    404\u001b[0m                   yapf_pycode\u001b[39m=\u001b[39myapf_pycode\n\u001b[1;32m    405\u001b[0m                   )\n\u001b[0;32m--> 407\u001b[0m Pool(ncpu)\u001b[39m.\u001b[39;49mmap(_prep_model, model_list)\n",
      "File \u001b[0;32m~/mambaforge/envs/andes/lib/python3.8/site-packages/multiprocess/pool.py:364\u001b[0m, in \u001b[0;36mPool.map\u001b[0;34m(self, func, iterable, chunksize)\u001b[0m\n\u001b[1;32m    359\u001b[0m \u001b[39mdef\u001b[39;00m \u001b[39mmap\u001b[39m(\u001b[39mself\u001b[39m, func, iterable, chunksize\u001b[39m=\u001b[39m\u001b[39mNone\u001b[39;00m):\n\u001b[1;32m    360\u001b[0m \u001b[39m    \u001b[39m\u001b[39m'''\u001b[39;00m\n\u001b[1;32m    361\u001b[0m \u001b[39m    Apply `func` to each element in `iterable`, collecting the results\u001b[39;00m\n\u001b[1;32m    362\u001b[0m \u001b[39m    in a list that is returned.\u001b[39;00m\n\u001b[1;32m    363\u001b[0m \u001b[39m    '''\u001b[39;00m\n\u001b[0;32m--> 364\u001b[0m     \u001b[39mreturn\u001b[39;00m \u001b[39mself\u001b[39;49m\u001b[39m.\u001b[39;49m_map_async(func, iterable, mapstar, chunksize)\u001b[39m.\u001b[39;49mget()\n",
      "File \u001b[0;32m~/mambaforge/envs/andes/lib/python3.8/site-packages/multiprocess/pool.py:771\u001b[0m, in \u001b[0;36mApplyResult.get\u001b[0;34m(self, timeout)\u001b[0m\n\u001b[1;32m    769\u001b[0m     \u001b[39mreturn\u001b[39;00m \u001b[39mself\u001b[39m\u001b[39m.\u001b[39m_value\n\u001b[1;32m    770\u001b[0m \u001b[39melse\u001b[39;00m:\n\u001b[0;32m--> 771\u001b[0m     \u001b[39mraise\u001b[39;00m \u001b[39mself\u001b[39m\u001b[39m.\u001b[39m_value\n",
      "\u001b[0;31mMaybeEncodingError\u001b[0m: Error sending result: '<multiprocess.pool.ExceptionWithTraceback object at 0x7f0cdd08c040>'. Reason: 'TypeError(\"cannot pickle '_global_parameters' object\")'"
     ]
    }
   ],
   "source": [
    "from andes.models import experimental\n",
    "\n",
    "# experimental.TCSC(0, 0)\n",
    "\n",
    "import andes\n",
    "ss = andes.System()"
   ]
  },
  {
   "cell_type": "code",
   "execution_count": null,
   "metadata": {},
   "outputs": [],
   "source": []
  },
  {
   "cell_type": "code",
   "execution_count": null,
   "metadata": {},
   "outputs": [],
   "source": [
    "from andes.models import experimental"
   ]
  },
  {
   "cell_type": "code",
   "execution_count": null,
   "metadata": {},
   "outputs": [],
   "source": []
  }
 ],
 "metadata": {
  "kernelspec": {
   "display_name": "andes",
   "language": "python",
   "name": "python3"
  },
  "language_info": {
   "codemirror_mode": {
    "name": "ipython",
    "version": 3
   },
   "file_extension": ".py",
   "mimetype": "text/x-python",
   "name": "python",
   "nbconvert_exporter": "python",
   "pygments_lexer": "ipython3",
   "version": "3.8.17"
  },
  "orig_nbformat": 4
 },
 "nbformat": 4,
 "nbformat_minor": 2
}
